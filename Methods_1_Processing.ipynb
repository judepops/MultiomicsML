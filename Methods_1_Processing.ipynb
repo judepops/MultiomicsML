{
 "cells": [
  {
   "cell_type": "markdown",
   "metadata": {},
   "source": [
    "# Packages"
   ]
  },
  {
   "cell_type": "code",
   "execution_count": null,
   "metadata": {},
   "outputs": [],
   "source": [
    "import numpy as np\n",
    "from pandas import DataFrame\n",
    "import pandas as pd\n",
    "import matplotlib.pyplot as plt\n",
    "import seaborn as sns\n",
    "import scipy.stats as stats\n",
    "import statsmodels.api as sm\n",
    "import sklearn \n",
    "import sspa\n",
    "import sspa.utils\n",
    "import gseapy.plot as gp\n",
    "import networkx\n",
    "from sklearn.decomposition import PCA\n",
    "from sklearn.preprocessing import StandardScaler\n",
    "import scipy.stats as stats\n",
    "import statsmodels.api as sm\n",
    "import plotly.graph_objects as go\n",
    "import plotly.express as px\n",
    "import urllib.request\n",
    "import statsmodels\n",
    "import networkx as nx\n",
    "import math\n",
    "import itertools \n",
    "from scipy.stats import hypergeom as hg\n",
    "import textwrap\n",
    "from itertools import chain\n",
    "import missforest"
   ]
  },
  {
   "cell_type": "markdown",
   "metadata": {},
   "source": [
    "# Multi-Omics Data"
   ]
  },
  {
   "cell_type": "code",
   "execution_count": null,
   "metadata": {},
   "outputs": [],
   "source": [
    "# loading data  \n",
    "file_path = '/Users/judepops/Documents/PathIntegrate/Datasets/Covid/tzydswhhb5-5/Table S1. Human subject details, plasma proteomic and metabolomic datasets and analysis, and CITE-seq antibodies. Related to Figures 1 and S1.xlsx'\n",
    "excel_file = pd.ExcelFile(file_path)\n",
    "sheet_names = excel_file.sheet_names\n",
    "print(sheet_names)\n",
    "\n",
    "# selecting and subsetting for baseline\n",
    "metabolomics_data = pd.read_excel(file_path, sheet_name='S1.4 Plasma Metabolomic Data')\n",
    "metabolomics_data['sample_id'] = metabolomics_data['sample_id'].astype(str)\n",
    "metabolomics_data = metabolomics_data[~metabolomics_data['sample_id'].str.endswith('-AC')]\n",
    "metabolomics_data = metabolomics_data[metabolomics_data['Healthy donor sample or COVID19 sample'] != 'Healthy Donor ']\n",
    "\n",
    "proteomics_data = pd.read_excel(file_path, sheet_name='S1.3 Plasma Proteomic Data')\n",
    "proteomics_data['sample_id'] = proteomics_data['sample_id'].astype(str)\n",
    "proteomics_data = proteomics_data[~proteomics_data['sample_id'].str.endswith('-AC')]\n",
    "proteomics_data = proteomics_data[proteomics_data['Healthy donor sample or COVID19 sample'] != 'Healthy Donor ']\n",
    "\n",
    "# selecting metadata file for concatenation\n",
    "metadata = pd.read_excel(file_path, sheet_name='S1.1 Patient Clinical Data')\n",
    "\n",
    "# saving the raw data files\n",
    "metabolomics_data.to_csv('../Processing_Cleaned/metabolomics_data_covid.csv')\n",
    "proteomics_data.to_csv('../Processing_Cleaned/proteomics_data_covid.csv')\n",
    "metadata.to_csv('../Processing_Cleaned/metadata_covid.csv')"
   ]
  },
  {
   "cell_type": "markdown",
   "metadata": {},
   "source": [
    "# Filtering"
   ]
  },
  {
   "cell_type": "code",
   "execution_count": null,
   "metadata": {},
   "outputs": [],
   "source": [
    "# numeric data\n",
    "metabolomics_data = metabolomics_data.iloc[:, 2:]\n",
    "\n",
    "# data shape\n",
    "print(metabolomics_data.shape)\n",
    "\n",
    "# removing samples where Na count is > than 50%\n",
    "metabolomics_data = metabolomics_data.loc[metabolomics_data.isnull().mean(axis=1) < 0.5, :]\n",
    "print(\"samples with NA values < 50%:\", metabolomics_data.shape) #didnt drop any rows)\n",
    "\n",
    "# only keeping  metabolites where the number of NA  is < 60% \n",
    "metabolomics_data = metabolomics_data.loc[:, metabolomics_data.isnull().mean() < 0.6] #dropped 9 columns (metalbolites)\n",
    "print(\"metabolites with NA < 60%:\", metabolomics_data.shape, \" -> dropped 121 metabolites \")"
   ]
  },
  {
   "cell_type": "code",
   "execution_count": null,
   "metadata": {},
   "outputs": [],
   "source": [
    "# numeric data\n",
    "proteomics_data = proteomics_data.iloc[:, 2:]\n",
    "\n",
    "# data shape\n",
    "print(proteomics_data.shape)\n",
    "\n",
    "# removing samples where Na count is > than 50%\n",
    "proteomics_data = proteomics_data.loc[proteomics_data.isnull().mean(axis=1) < 0.5, :]\n",
    "print(\"samples with NA values < 50%\", proteomics_data.shape) #didnt drop any rows\n",
    "# 50% is a fairly good compromise\n",
    "\n",
    "# only keeping proteins where the number of NA  is < 40% \n",
    "proteomics_data = proteomics_data.loc[:, proteomics_data.isnull().mean() < 0.4] #dropped 9 columns i.e proteins\n",
    "print(\"proteins with NA < 40%:\", proteomics_data.shape, \" -> Dropped 9 proteins! \")"
   ]
  },
  {
   "cell_type": "markdown",
   "metadata": {},
   "source": [
    "# Imputation"
   ]
  },
  {
   "cell_type": "code",
   "execution_count": null,
   "metadata": {},
   "outputs": [],
   "source": [
    "# Metaboloimcs - using SVD\n",
    "\n",
    "from fancyimpute import SoftImpute\n",
    "\n",
    "soft_impute = SoftImpute()\n",
    "imputed_data_met = soft_impute.fit_transform(metabolomics_data.values)\n",
    "\n",
    "imputed_data_met = pd.DataFrame(imputed_data_met, columns=metabolomics_data.columns)\n",
    "imputed_data_met.to_csv('imputed_metabolomics_data.csv')"
   ]
  },
  {
   "cell_type": "code",
   "execution_count": null,
   "metadata": {},
   "outputs": [],
   "source": [
    "# Proteoimcs - using RF\n",
    "\n",
    "import sys\n",
    "import sklearn.neighbors._base\n",
    "sys.modules['sklearn.neighbors.base'] = sklearn.neighbors._base\n",
    "from missingpy import MissForest\n",
    "\n",
    "randomFores = MissForest()\n",
    "imputed_data_prot = pd.DataFrame(randomFores.fit_transform(proteomics_data))\n",
    "\n",
    "imputed_data_prot.columns = proteomics_data.columns"
   ]
  },
  {
   "cell_type": "markdown",
   "metadata": {},
   "source": [
    "# Log Transformation + Scaling "
   ]
  },
  {
   "cell_type": "code",
   "execution_count": null,
   "metadata": {},
   "outputs": [],
   "source": [
    "# Metabolomics\n",
    "\n",
    "negative_values_check = (imputed_data_met < 0).any()\n",
    "negative_values_check\n",
    "\n",
    "\n",
    "# log transform + small constant = shifts all values away from zero\n",
    "# global minimum\n",
    "min_value = imputed_data_met.min().min()  \n",
    "#ensuring positive values\n",
    "shift = -min_value + 1  \n",
    "adjusted_data = imputed_data_met + shift\n",
    "\n",
    "# log transformation\n",
    "numeric_data_log_transformed = np.log(adjusted_data)\n",
    "\n",
    "# scaling\n",
    "scaler = StandardScaler()\n",
    "scaled_data = scaler.fit_transform(numeric_data_log_transformed)\n",
    "scaled_data_met = pd.DataFrame(scaled_data, columns=metabolomics_data.columns, index=metabolomics_data.index)"
   ]
  },
  {
   "cell_type": "code",
   "execution_count": null,
   "metadata": {},
   "outputs": [],
   "source": [
    "# Proteomics - already log transformed\n",
    "\n",
    "prot_standard = sklearn.preprocessing.StandardScaler().fit_transform(imputed_data_prot)\n",
    "\n",
    "#   data frame\n",
    "prot_standard = pd.DataFrame(data = prot_standard)\n",
    "\n",
    "#  standardised data into a data frame with column IDs\n",
    "scaled_data_prot = pd.DataFrame(data=prot_standard.values, columns=proteomics_data.columns)\n",
    "scaled_data_prot.index=proteomics_data.index\n"
   ]
  },
  {
   "cell_type": "markdown",
   "metadata": {},
   "source": [
    "# Adding in and manipulating metadata "
   ]
  },
  {
   "cell_type": "markdown",
   "metadata": {},
   "source": [
    "### Metabolomics"
   ]
  },
  {
   "cell_type": "code",
   "execution_count": null,
   "metadata": {},
   "outputs": [],
   "source": [
    "# Data\n",
    "metadata = pd.read_csv('metadata_covid.csv')\n",
    "met_original = pd.read_csv('metabolomics_data_covid.csv')\n",
    "prot_original = pd.read_csv('proteomics_data_covid.csv')"
   ]
  },
  {
   "cell_type": "code",
   "execution_count": null,
   "metadata": {},
   "outputs": [],
   "source": [
    "def categorise_who(value):\n",
    "    if value in ['1', '1 or 2']:\n",
    "        return 'Mild'\n",
    "    elif value in ['3', '4', '5', '6', '7']: \n",
    "        return 'Severe'\n",
    "    elif value == '0':\n",
    "        return 'Healthy'\n",
    "    else:\n",
    "        return 'Other'  \n",
    "    \n",
    "def categorize_race(value):\n",
    "    if value in ['White', 'Asian', 'Black or African American']:\n",
    "        return value\n",
    "    else:\n",
    "        return 'Other'"
   ]
  },
  {
   "cell_type": "code",
   "execution_count": null,
   "metadata": {},
   "outputs": [],
   "source": [
    "# original metabolomics data\n",
    "scaled_data_met.reset_index(drop=True, inplace=True)\n",
    "scaled_data_met['sample_id'] = met_original['sample_id']\n",
    "scaled_data_met['sample_id'] = scaled_data_met['sample_id'].apply(lambda x: str(x).split('-')[0])\n",
    "\n",
    "# preparing metadata\n",
    "metadata['Sample ID'] = metadata['Sample ID'].apply(lambda x: x.split('-')[0])\n",
    "metadata = metadata.drop_duplicates(subset='Study Subject ID', keep='first')\n",
    "\n",
    "# columsn to add on\n",
    "columns_to_merge = ['Study Subject ID', 'Who Ordinal Scale', 'Race', 'Age']\n",
    "\n",
    "# merging  refined metadata with the original metabolomic values dataframe\n",
    "merged_df = pd.merge(scaled_data_met, metadata[columns_to_merge],\n",
    "                     left_on='sample_id', right_on='Study Subject ID', how='left')\n",
    "\n",
    "# filling missing values in WHO with 0 or unknown\n",
    "merged_df['Who Ordinal Scale'].fillna(0, inplace=True)\n",
    "merged_df['Race'].fillna('Unknown', inplace=True)\n",
    "merged_df['Age'].fillna('Unknown', inplace=True)\n",
    "\n",
    "# manipulating meged df\n",
    "merged_df.drop(columns=['Study Subject ID'], inplace=True)\n",
    "merged_df.rename(columns={'Who Ordinal Scale': 'Who'}, inplace=True)\n",
    "merged_df['Group'] = met_original['Healthy donor sample or COVID19 sample']\n",
    "merged_df.set_index('sample_id', inplace=True)\n",
    "\n",
    "final_data_met = merged_df.copy()"
   ]
  },
  {
   "cell_type": "markdown",
   "metadata": {},
   "source": [
    "### Proteomics"
   ]
  },
  {
   "cell_type": "code",
   "execution_count": null,
   "metadata": {},
   "outputs": [],
   "source": [
    "# original proteomics metadata\n",
    "scaled_data_prot.reset_index(drop=True, inplace=True)\n",
    "scaled_data_prot['sample_id'] = prot_original['sample_id']\n",
    "scaled_data_prot['sample_id'] = scaled_data_prot['sample_id'].apply(lambda x: str(x).split('-')[0])\n",
    "metadata['Sample ID'] = metadata['Sample ID'].apply(lambda x: x.split('-')[0])\n",
    "metadata = metadata.drop_duplicates(subset='Study Subject ID', keep='first')\n",
    "\n",
    "columns_to_merge = ['Study Subject ID', 'Who Ordinal Scale', 'Race', 'Age']\n",
    "\n",
    "merged_df = pd.merge(scaled_data_prot, metadata[columns_to_merge],\n",
    "                     left_on='sample_id', right_on='Study Subject ID', how='left')\n",
    "\n",
    "merged_df['Who Ordinal Scale'].fillna(0, inplace=True)\n",
    "merged_df['Race'].fillna('Unknown', inplace=True)\n",
    "merged_df['Age'].fillna('Unknown', inplace=True)\n",
    "merged_df.drop(columns=['Study Subject ID'], inplace=True)\n",
    "merged_df.rename(columns={'Who Ordinal Scale': 'Who'}, inplace=True)\n",
    "merged_df['Group'] = prot_original['Healthy donor sample or COVID19 sample']\n",
    "merged_df.set_index('sample_id', inplace=True)\n",
    "\n",
    "final_data_prot = merged_df.copy()\n"
   ]
  },
  {
   "cell_type": "markdown",
   "metadata": {},
   "source": [
    "### Adding Groupings"
   ]
  },
  {
   "cell_type": "code",
   "execution_count": null,
   "metadata": {},
   "outputs": [],
   "source": [
    "# metaboloimcs\n",
    "final_data_met['Condition_Group'] = final_data_met['Who'].apply(categorise_who)\n",
    "final_data_met['Age'] = final_data_met['Age'].astype(float).astype(int)\n",
    "final_data_met['Age_Group'] = pd.cut(final_data_met['Age'].astype(int), bins=range(0, 101, 10), right=False, labels=[f\"{i}-{i+9}\" for i in range(0, 100, 10)])\n",
    "final_data_met['Race_Group'] = final_data_met['Race'].apply(categorize_race)\n",
    "\n",
    "# proteoimcs\n",
    "final_data_prot['Condition_Group'] = final_data_prot['Who'].apply(categorise_who)\n",
    "final_data_prot['Age'] = final_data_prot['Age'].astype(float).astype(int)\n",
    "final_data_prot['Age_Group'] = pd.cut(final_data_prot['Age'].astype(int), bins=range(0, 101, 10), right=False, labels=[f\"{i}-{i+9}\" for i in range(0, 100, 10)])\n",
    "final_data_prot['Race_Group'] = final_data_prot['Race'].apply(categorize_race)\n",
    "\n",
    "# saving\n",
    "final_data_met.to_csv('cleaned_metabolomics_data_covid.csv')\n",
    "final_data_prot.to_csv('cleaned_proteomics_data_covid.csv')"
   ]
  },
  {
   "cell_type": "markdown",
   "metadata": {},
   "source": [
    "# Outlier Detection"
   ]
  },
  {
   "cell_type": "code",
   "execution_count": null,
   "metadata": {},
   "outputs": [],
   "source": [
    "# metabolomics \n",
    "\n",
    "met_numeric = final_data_met.iloc[:, :-7]\n",
    "met_numeric\n",
    "\n",
    "# z score\n",
    "met_numeric_mean = met_numeric.mean()"
   ]
  },
  {
   "cell_type": "code",
   "execution_count": null,
   "metadata": {},
   "outputs": [],
   "source": [
    "# plotting the outliers usign z score\n",
    "\n",
    "means = met_numeric.mean()\n",
    "stds = met_numeric.std()\n",
    "\n",
    "z_scores = (met_numeric - means) / stds\n",
    "\n",
    "overall_z_scores = np.sqrt((z_scores**2).sum(axis=1))\n",
    "\n",
    "top_indices = overall_z_scores.nlargest(3).index\n",
    "\n",
    "row_index = 'INCOV064'\n",
    "\n",
    "if row_index in overall_z_scores.index:\n",
    "    row_overall_z_score = overall_z_scores.loc[row_index]\n",
    "\n",
    "    plt.figure(figsize=(10, 6))\n",
    "    plt.hist(overall_z_scores, bins=30, color='gray', alpha=0.7, label='Overall Z-Scores')\n",
    "    \n",
    "    for idx in top_indices:\n",
    "        plt.axvline(overall_z_scores.loc[idx], color='red' if idx == row_index else 'blue', linestyle='dashed', linewidth=2)\n",
    "        plt.text(overall_z_scores.loc[idx], 5, f'{idx}', horizontalalignment='right')\n",
    "    \n",
    "    plt.xlabel('Overall Z-Score')\n",
    "    plt.ylabel('Frequency')\n",
    "    plt.title('Distribution of Overall Z-Scores with Top 3 Samples Highlighted')\n",
    "    plt.legend()\n",
    "    plt.show()\n",
    "else:\n",
    "    pass\n"
   ]
  },
  {
   "cell_type": "code",
   "execution_count": null,
   "metadata": {},
   "outputs": [],
   "source": [
    "# proteomics\n",
    "\n",
    "prot_numeric = final_data_prot.iloc[:, :-7]\n",
    "means = prot_numeric.mean()\n",
    "\n",
    "z_scores = (prot_numeric - means) / stds\n",
    "\n",
    "overall_z_scores = np.sqrt((z_scores**2).sum(axis=1))\n",
    "\n",
    "top_indices = overall_z_scores.nlargest(3).index\n",
    "\n",
    "row_index = 'INCOV064'\n",
    "\n",
    "if row_index in overall_z_scores.index:\n",
    "    row_overall_z_score = overall_z_scores.loc[row_index]\n",
    "\n",
    "    plt.figure(figsize=(10, 6))\n",
    "    plt.hist(overall_z_scores, bins=30, color='gray', alpha=0.7, label='Overall Z-Scores')\n",
    "    for idx in top_indices:\n",
    "        plt.axvline(overall_z_scores.loc[idx], color='red' if idx == row_index else 'blue', linestyle='dashed', linewidth=2)\n",
    "        plt.text(overall_z_scores.loc[idx], 5, f'{idx}', horizontalalignment='right')\n",
    "    plt.xlabel('Overall Z-Score')\n",
    "    plt.ylabel('Frequency')\n",
    "    plt.title('Distribution of Overall Z-Scores with Top 3 Samples Highlighted')\n",
    "    plt.legend()\n",
    "    plt.show()\n",
    "else:\n",
    "    print(f\"Row index {row_index} not found in DataFrame.\")"
   ]
  },
  {
   "cell_type": "code",
   "execution_count": null,
   "metadata": {},
   "outputs": [],
   "source": [
    "# REMOVING the outlier cases\n",
    "\n",
    "# 3 REMOVED FROM MET\n",
    "\n",
    "final_data_met = final_data_met.drop('INCOV064', axis=0)\n",
    "final_data_met = final_data_met.drop('INCOV090', axis=0)\n",
    "final_data_met = final_data_met.drop('INCOV028', axis=0)\n",
    "\n",
    "\n",
    "# 2 REMOVED FROM PROT\n",
    "\n",
    "final_data_prot = final_data_prot.drop('INCOV064', axis=0)\n",
    "final_data_prot = final_data_prot.drop('INCOV090', axis=0)"
   ]
  }
 ],
 "metadata": {
  "language_info": {
   "name": "python"
  }
 },
 "nbformat": 4,
 "nbformat_minor": 2
}
