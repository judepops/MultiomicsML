{
 "cells": [
  {
   "cell_type": "markdown",
   "metadata": {},
   "source": [
    "# Packages"
   ]
  },
  {
   "cell_type": "code",
   "execution_count": null,
   "metadata": {},
   "outputs": [],
   "source": [
    "import pathintegrate_v3\n",
    "import pandas as pd\n",
    "import numpy as np\n",
    "from simulation_jp import SimulateData\n",
    "import matplotlib.pyplot as plt\n",
    "import seaborn as sns\n",
    "import sspa"
   ]
  },
  {
   "cell_type": "markdown",
   "metadata": {},
   "source": [
    "# Making synthetic models"
   ]
  },
  {
   "cell_type": "markdown",
   "metadata": {},
   "source": [
    "### Data"
   ]
  },
  {
   "cell_type": "code",
   "execution_count": null,
   "metadata": {},
   "outputs": [],
   "source": [
    "mo_paths = pd.read_csv('/Users/judepops/Documents/PathIntegrate/Code/Final_Scripts/Results/Results_G/KEGG_database_multiomics_filtered.csv', dtype={'Pathway': str}, index_col='Pathway')\n",
    "\n",
    " \n",
    "metab = pd.read_csv('/Users/judepops/Documents/PathIntegrate/Code/Final_Scripts/Results/Results_G/COVID_Met_KEGG_Pred.csv')\n",
    "prot = pd.read_csv('/Users/judepops/Documents/PathIntegrate/Code/Final_Scripts/Results/Results_G/COVID_Prot_KEGG_Final.csv')\n",
    "prot.set_index('sample_id', inplace=True)\n",
    "metab.set_index('sample_id', inplace=True)\n",
    "metab = metab.drop('INCOV090', axis=0)\n",
    "metab = metab.drop('INCOV028', axis=0)\n",
    "prot = prot.drop('INCOV090', axis=0)\n",
    "prot = prot.drop(columns=['Race', 'Age', 'Group'])\n",
    "metab = metab.drop(columns=['Race', 'Age', 'Group'])\n",
    "common_indices = prot.index.intersection(metab.index)\n",
    "prot = prot.loc[common_indices]\n",
    "metab = metab.loc[common_indices]\n",
    "\n",
    "\n",
    "metab_un = metab.copy()\n",
    "prot_un = prot.copy()\n",
    "\n",
    "def group_who_corrected(value):\n",
    "    if value == '1 or 2':\n",
    "        return '1-2'\n",
    "    try:\n",
    "        value = int(value)\n",
    "        if value in [1, 2]:\n",
    "            return '1-2'\n",
    "        elif value in [3, 4]:\n",
    "            return '3-4'\n",
    "        elif value in [5, 6, 7]:\n",
    "            return '5-7'\n",
    "    except ValueError:\n",
    "        return np.nan\n",
    "\n",
    "prot_un['Who_Group'] = prot_un['Who'].apply(group_who_corrected)\n",
    "metab_un['Who_Group'] = metab_un['Who'].apply(group_who_corrected)"
   ]
  },
  {
   "cell_type": "code",
   "execution_count": null,
   "metadata": {},
   "outputs": [],
   "source": [
    "# converting pathways to a dictionary\n",
    "mo_paths\n",
    "mo_paths_dict = sspa.utils.pathwaydf_to_dict(mo_paths)"
   ]
  },
  {
   "cell_type": "code",
   "execution_count": null,
   "metadata": {},
   "outputs": [],
   "source": [
    "# looking at many pathways contain at least four mapped compounds?\n",
    "pathways_present_cts = {k: len([i for i in metab_un.columns if i in v]) for k, v in mo_paths_dict.items() if len([i for i in metab_un.columns if i in v]) > 3}\n",
    "pathways_present_cvrg = {k: [i for i in metab_un.columns if i in v] for k, v in mo_paths_dict.items() if len([i for i in metab_un.columns if i in v]) > 3}"
   ]
  },
  {
   "cell_type": "code",
   "execution_count": null,
   "metadata": {},
   "outputs": [],
   "source": [
    "# sorting the ranked apthwyas and looking at which ones have the most compounds - best to augment\n",
    "ranked_pathways = sorted(pathways_present_cts.items(), key=lambda item: item[1], reverse=True)\n",
    "\n",
    "#  results\n",
    "print(\"number mapped compounds:\")\n",
    "for pathway, count in ranked_pathways:\n",
    "    print(f\"{pathway}: {count} mapped compounds\")"
   ]
  },
  {
   "cell_type": "markdown",
   "metadata": {},
   "source": [
    "### Creating simultation"
   ]
  },
  {
   "cell_type": "code",
   "execution_count": null,
   "metadata": {},
   "outputs": [],
   "source": [
    "\n",
    "mo_sim = SimulateData(\n",
    "    input_data=[metab_un.iloc[:, :-4], prot_un.iloc[:, :-4]],\n",
    "    metadata=[metab_un['Condition_Group'], prot_un['Condition_Group']],\n",
    "    pathways=mo_paths_dict,\n",
    "    enriched_paths=['04211', '05152', '05133', '04934']).enrich_paths_base(effect_sizes=[0,10, 20, 40, 60, 80, 100, 120])\n",
    "\n",
    "metab_sim = mo_sim[0]\n",
    "prot_sim = mo_sim[1]"
   ]
  },
  {
   "cell_type": "code",
   "execution_count": null,
   "metadata": {},
   "outputs": [],
   "source": [
    "# Model\n",
    "pi_model = pathintegrate_v3.PathIntegrate(\n",
    "    omics_data={'Metabolomics': metab_sim.iloc[:, :-2], 'Proteomics':prot_sim.iloc[:, :-2]}, # dictionary of multi-omics DataFrames and names for each omics\n",
    "    metadata=prot_sim['Group'], # metadata column\n",
    "    pathway_source=mo_paths, # pathways dataframe\n",
    "    sspa_scoring=sspa.sspa_SVD, # ssPA method, see ssPA package for options\n",
    "    min_coverage=4) # minimum number of molecules mapping per pathway to be included"
   ]
  },
  {
   "cell_type": "markdown",
   "metadata": {},
   "source": [
    "### UNSING my pathintgrate package clustering model"
   ]
  },
  {
   "cell_type": "code",
   "execution_count": null,
   "metadata": {},
   "outputs": [],
   "source": [
    "# running the PathIntegrate Model\n",
    "from sklearn.cluster import KMeans\n",
    "from sklearn.cluster import SpectralClustering\n",
    "from sklearn.cluster import AgglomerativeClustering\n",
    "covid_kmeans = pi_model.SingleViewClust(model=KMeans, model_params={'n_clusters' :2}, use_pca=True, return_comparison_plot=True, return_plot=True, return_ground_truth_plot=True)\n"
   ]
  },
  {
   "cell_type": "markdown",
   "metadata": {},
   "source": [
    "### running the simulation many times for different cluster counts with different models"
   ]
  },
  {
   "cell_type": "code",
   "execution_count": null,
   "metadata": {},
   "outputs": [],
   "source": [
    "from sklearn.cluster import KMeans, SpectralClustering, AgglomerativeClustering, DBSCAN, Birch, MeanShift\n",
    "from sklearn.mixture import GaussianMixture\n",
    "\n",
    "# using the only algorithms that work with metrics\n",
    "clustering_algorithms = {\n",
    "    'Birch': Birch,\n",
    "    'KMeans': KMeans,\n",
    "    'AgglomerativeClustering': AgglomerativeClustering,\n",
    "}\n",
    "\n",
    "metrics_list = []\n",
    "\n",
    "for algo_name, algo in clustering_algorithms.items():\n",
    "    for n_clusters in range(2, 9):\n",
    "        effect_sizes = list(range(0, 10 * n_clusters, 10))\n",
    "                \n",
    "        mo_sim = SimulateData(\n",
    "            input_data=[metab_un.iloc[:, :-4], prot_un.iloc[:, :-4]],\n",
    "            metadata=[metab_un['Condition_Group'], prot_un['Condition_Group']],\n",
    "            pathways=mo_paths_dict,\n",
    "            enriched_paths=['04211', '05152', '05133', '04934']\n",
    "        ).enrich_paths_base(effect_sizes=effect_sizes)\n",
    "\n",
    "        metab_sim = mo_sim[0]\n",
    "        prot_sim = mo_sim[1]\n",
    "\n",
    "        pi_model = pathintegrate_v3.PathIntegrate(\n",
    "            omics_data={'Metabolomics': metab_sim.iloc[:, :-2], 'Proteomics': prot_sim.iloc[:, :-2]},\n",
    "            metadata=prot_sim['Group'],\n",
    "            pathway_source=mo_paths,\n",
    "            sspa_scoring=sspa.sspa_SVD,\n",
    "            min_coverage=2\n",
    "        )\n",
    "        \n",
    "        model_params = {'n_clusters': n_clusters} if algo_name not in ['DBSCAN', 'MeanShift'] else {}\n",
    "\n",
    "        covid_clustering = pi_model.SingleViewClust(\n",
    "            model=algo, \n",
    "            model_params=model_params,\n",
    "            use_pca=True, \n",
    "            return_comparison_plot=True, \n",
    "            return_plot=False, \n",
    "            return_ground_truth_plot=False\n",
    "        )\n",
    "        \n",
    "        metrics = covid_clustering.metrics\n",
    "        metrics['Algorithm'] = algo_name\n",
    "        metrics['n_clusters'] = n_clusters\n",
    "        metrics_list.append(metrics)\n",
    "\n",
    "metrics_df = pd.DataFrame(metrics_list)\n",
    "\n",
    "print(metrics_df)\n"
   ]
  }
 ],
 "metadata": {
  "language_info": {
   "name": "python"
  }
 },
 "nbformat": 4,
 "nbformat_minor": 2
}
