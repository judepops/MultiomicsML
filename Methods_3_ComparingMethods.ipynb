{
 "cells": [
  {
   "cell_type": "markdown",
   "metadata": {},
   "source": [
    "# Packages"
   ]
  },
  {
   "cell_type": "code",
   "execution_count": null,
   "metadata": {},
   "outputs": [],
   "source": [
    "# Dependencies\n",
    "\n",
    "import numpy as np\n",
    "from pandas import DataFrame\n",
    "import pandas as pd\n",
    "import matplotlib.pyplot as plt\n",
    "import seaborn as sns\n",
    "import scipy.stats as stats\n",
    "import statsmodels.api as sm\n",
    "import sklearn \n",
    "import sspa\n",
    "import sspa.utils\n",
    "import gseapy.plot as gp\n",
    "import networkx\n",
    "from sklearn.decomposition import PCA\n",
    "from sklearn.preprocessing import StandardScaler\n",
    "import scipy.stats as stats\n",
    "import statsmodels.api as sm\n",
    "import plotly.graph_objects as go\n",
    "import plotly.express as px\n",
    "import urllib.request\n",
    "import statsmodels\n",
    "import networkx as nx\n",
    "import math\n",
    "import itertools \n",
    "from scipy.stats import hypergeom as hg\n",
    "import textwrap\n",
    "from itertools import chain\n",
    "import missforest\n",
    "import pathintegrate\n"
   ]
  },
  {
   "cell_type": "markdown",
   "metadata": {},
   "source": [
    "# Loading in raw data"
   ]
  },
  {
   "cell_type": "code",
   "execution_count": null,
   "metadata": {},
   "outputs": [],
   "source": [
    "# Reading in the metabolomics data\n",
    "metabolomics_data_processed = pd.read_csv('/Users/judepops/Documents/PathIntegrate/Code/Processing/Processing_Cleaned/cleaned_metabolomics_data_covid.csv')\n",
    "metabolomics_data_processed = metabolomics_data_processed.set_index('sample_id')\n",
    "metabolomics_data_processed_final = metabolomics_data_processed.iloc[:, :-7]\n",
    "metabolomics_data_processed_final.columns = [col.strip().lower() for col in metabolomics_data_processed_final.columns]\n",
    "\n",
    "last_7_columns = metabolomics_data_processed.iloc[:, -7:]\n",
    "last_7_columns\n"
   ]
  },
  {
   "cell_type": "code",
   "execution_count": null,
   "metadata": {},
   "outputs": [],
   "source": [
    "proteomics_data_processed = pd.read_csv('/Users/judepops/Documents/PathIntegrate/Code/Processing/Processing_Cleaned/cleaned_proteomics_data_covid.csv')\n",
    "proteomics_data_processed"
   ]
  },
  {
   "cell_type": "markdown",
   "metadata": {},
   "source": [
    "# Proteomics ID converted matrix: simply using olink panel"
   ]
  },
  {
   "cell_type": "code",
   "execution_count": null,
   "metadata": {},
   "outputs": [],
   "source": [
    "proteomics_data_processed = proteomics_data_processed.set_index('sample_id')\n",
    "numeric_data = proteomics_data_processed.select_dtypes(include=[np.number]) \n",
    "numeric_data=numeric_data.drop(columns='Age')\n",
    "\n",
    "olink = pd.read_csv('/Users/judepops/Documents/PathIntegrate/Code/Processing/proteomics_metadata.csv')\n",
    "gene_description = olink[\"gene_description\"]\n",
    "uniprot\t= olink[\"uniprot\"]\n",
    "\n",
    "uniprot_id = dict(zip(gene_description, uniprot))\n",
    "uniprot_id\n",
    "\n",
    "# replcaing name with uniprot IDs\n",
    "uniprot_proteomic = numeric_data.rename(mapper= uniprot_id, axis=1)\n",
    "uniprot_proteomic"
   ]
  },
  {
   "cell_type": "code",
   "execution_count": null,
   "metadata": {},
   "outputs": [],
   "source": [
    "columns_to_move = proteomics_data_processed[['Who', 'Race', 'Age', 'Group', 'Condition_Group', 'Age_Group', 'Race_Group']] \n",
    "proteomics_final = pd.concat([uniprot_proteomic, columns_to_move], axis=1)\n",
    "proteomics_final\n",
    "\n",
    "proteomics_final.to_csv('/Users/judepops/Documents/PathIntegrate/Code/Pathway_Analysis/COVID_Pro_UniProt_Final.csv')"
   ]
  },
  {
   "cell_type": "markdown",
   "metadata": {},
   "source": [
    "# Creating ID-converted matrices for each of the different metabolite ID mapping methods "
   ]
  },
  {
   "cell_type": "markdown",
   "metadata": {},
   "source": [
    "### Manual Method"
   ]
  },
  {
   "cell_type": "code",
   "execution_count": null,
   "metadata": {},
   "outputs": [],
   "source": [
    "# manual conversion table\n",
    "manual = pd.read_csv('/Users/judepops/Documents/PathIntegrate/Code/Manual_Annotation/manual_annotations_raw_final_2.csv', index_col=0)\n",
    "manual\n",
    "manual['Manual_ChEBI'] = pd.to_numeric(manual['Manual_ChEBI'], errors='coerce')\n",
    "manual.dropna(subset=['Manual_ChEBI'], inplace=True)\n",
    "columns_to_drop = ['Input Compound Name', 'Automated_Match', 'Automated_ChEBI', 'Confusion_Matrix', 'Unnamed: 4', 'Manual_Match']\n",
    "manual = manual.drop(columns=columns_to_drop)\n",
    "manual.rename(columns={'Compound Name': 'Query'}, inplace=True)\n",
    "manual.rename(columns={'Manual_ChEBI': 'ChEBI'}, inplace=True)\n",
    "manual['Query'] = manual['Query'].str.strip().str.lower()\n",
    "manual['ChEBI'] = manual['ChEBI'].astype('Int64')\n",
    "manual.reset_index(drop=True, inplace=True)\n",
    "manual\n",
    "\n",
    "# File\n",
    "\n",
    "processed_data_mapped_manual = sspa.map_identifiers(manual, output_id_type=\"ChEBI\", matrix=metabolomics_data_processed_final)\n",
    "processed_data_mapped_manual_final = pd.concat([processed_data_mapped_manual, last_7_columns], axis=1)\n",
    "processed_data_mapped_manual_final.to_csv('/Users/judepops/Documents/PathIntegrate/Code/Final_Scripts/Results/Results_D/COVID_Met_ChEBI_Maual.csv')\n"
   ]
  },
  {
   "cell_type": "markdown",
   "metadata": {},
   "source": [
    "### MetaboAnalyst Method"
   ]
  },
  {
   "cell_type": "code",
   "execution_count": null,
   "metadata": {},
   "outputs": [],
   "source": [
    "# loading in metaboanalyst conversion table\n",
    "conversion_table_met = pd.read_csv('/Users/judepops/Documents/PathIntegrate/Code/Metaboanalyst_Annotation/name_map_original_csv.csv')\n",
    "columns_to_drop = ['Match', 'HMDB', 'PubChem', 'KEGG', 'METLIN', 'SMILES', 'Comment']\n",
    "conversion_table_met = conversion_table_met.drop(columns=columns_to_drop)\n",
    "conversion_table_met.rename(columns={'Query': 'Query'}, inplace=True)\n",
    "conversion_table_met.rename(columns={'ChEBI': 'ChEBI'}, inplace=True)\n",
    "conversion_table_met['Query'] = conversion_table_met['Query'].str.strip().str.lower()\n",
    "conversion_table_met['ChEBI'] = pd.to_numeric(conversion_table_met['ChEBI'], errors='coerce')\n",
    "\n",
    "conversion_table_met.dropna(subset=['ChEBI'], inplace=True)\n",
    "conversion_table_met['ChEBI'] = conversion_table_met['ChEBI'].astype('Int64')\n",
    "\n",
    "# metaboanalsyt has a problem where it adds an asterix to names, ruinign matching so we fixe dthis for them\n",
    "query_values = conversion_table_met['Query'].unique()\n",
    "metabolomics_columns = set(metabolomics_data_processed_final.columns)\n",
    "non_matching_columns = set(query_values) - metabolomics_columns\n",
    "conversion_table_met['Query'] = conversion_table_met['Query'].apply(\n",
    "    lambda x: f\"{x}*\" if x in non_matching_columns else x\n",
    ")\n",
    "\n",
    "# creating mapped file\n",
    "processed_data_mapped_metaboanalyst = sspa.map_identifiers(conversion_table_met, output_id_type=\"ChEBI\", matrix=metabolomics_data_processed_final)\n",
    "processed_data_mapped_metaboanalyst_final = pd.concat([processed_data_mapped_metaboanalyst, last_7_columns], axis=1)\n",
    "processed_data_mapped_metaboanalyst_final.to_csv('/Users/judepops/Documents/PathIntegrate/Code/Final_Scripts/Results/Results_D/COVID_Met_ChEBI_Metaboanalyst.csv')\n",
    "\n"
   ]
  },
  {
   "cell_type": "markdown",
   "metadata": {},
   "source": [
    "### LLM method - using best threshold (0.75)"
   ]
  },
  {
   "cell_type": "code",
   "execution_count": null,
   "metadata": {},
   "outputs": [],
   "source": [
    "# Loading in LLM conversion table\n",
    "llm_subset = pd.read_csv('/Users/judepops/Documents/PathIntegrate/Code/LLM_Annotation/manual_automated_subset.csv', index_col=0)\n",
    "llm_subset = llm_subset[['Query', 'Matched COMPOUND_ID 0.75']]\n",
    "llm_subset = llm_subset.rename(columns={'Matched COMPOUND_ID 0.75': 'ChEBI'})\n",
    "llm_subset['Query'] = llm_subset['Query'].str.strip().str.lower()\n",
    "llm_subset['ChEBI'] = pd.to_numeric(llm_subset['ChEBI'], errors='coerce')\n",
    "llm_subset.dropna(subset=['ChEBI'], inplace=True)\n",
    "llm_subset['ChEBI'] = llm_subset['ChEBI'].astype('Int64')\n",
    "\n",
    "\n",
    "# creating mapped file\n",
    "processed_data_mapped_llm = sspa.map_identifiers(llm_subset, output_id_type=\"ChEBI\", matrix=metabolomics_data_processed_final)\n",
    "processed_data_mapped_llm_final = pd.concat([processed_data_mapped_llm, last_7_columns], axis=1)\n",
    "processed_data_mapped_llm_final.to_csv('/Users/judepops/Documents/PathIntegrate/Code/Final_Scripts/Results/Results_D/COVID_Met_ChEBI_LLM.csv')\n",
    "processed_data_mapped_llm_final"
   ]
  },
  {
   "cell_type": "markdown",
   "metadata": {},
   "source": [
    "### LLM V2 Method - this is a seperate file was was computed with a 0.75 threshold and provided teh best predictions"
   ]
  },
  {
   "cell_type": "code",
   "execution_count": null,
   "metadata": {},
   "outputs": [],
   "source": [
    "llm_subset = pd.read_csv('/Users/judepops/Documents/PathIntegrate/Code/Final_Scripts/Results/Results_B/llm_subset_v2.csv', index_col=0)\n",
    "llm_subset = llm_subset.rename(columns={'Matched COMPOUND_ID': 'ChEBI'})\n",
    "llm_subset = llm_subset.drop(columns='Matched Compound Name')\n",
    "llm_subset = llm_subset.drop(columns='Source')\n",
    "llm_subset = llm_subset.drop(columns='Correct COMPOUND_ID')\n",
    "\n",
    "llm_subset['Query'] = llm_subset['Query'].str.strip().str.lower()\n",
    "llm_subset['ChEBI'] = pd.to_numeric(llm_subset['ChEBI'], errors='coerce')\n",
    "llm_subset.dropna(subset=['ChEBI'], inplace=True)\n",
    "llm_subset['ChEBI'] = llm_subset['ChEBI'].astype('Int64')\n",
    "\n",
    "\n",
    "# creating mapped file\n",
    "processed_data_mapped_llm_v2 = sspa.map_identifiers(llm_subset, output_id_type=\"ChEBI\", matrix=metabolomics_data_processed_final)\n",
    "processed_data_mapped_llm_final_v2 = pd.concat([processed_data_mapped_llm, last_7_columns], axis=1)\n",
    "processed_data_mapped_llm_final_v2.to_csv('/Users/judepops/Documents/PathIntegrate/Code/Final_Scripts/Results/Results_D/COVID_Met_ChEBI_LLM_V2.csv')\n",
    "processed_data_mapped_llm_final_v2"
   ]
  },
  {
   "cell_type": "markdown",
   "metadata": {},
   "source": [
    "# Pathway analysis comparison with different ID-converted matrices"
   ]
  },
  {
   "cell_type": "code",
   "execution_count": null,
   "metadata": {},
   "outputs": [],
   "source": [
    "# Intitialisng the pathway database files\n",
    "\n",
    "# reactome pathways\n",
    "reactome_pathways = sspa.process_reactome(organism=\"Homo sapiens\",download_latest=True, omics_type='multiomics')\n",
    "\n",
    "# compounds in all teh reactome pathways\n",
    "all_reactome_cpds = set(sum(sspa.utils.pathwaydf_to_dict(reactome_pathways).values(), []))"
   ]
  },
  {
   "cell_type": "markdown",
   "metadata": {},
   "source": [
    "### Metaboanalyst pathway mappign results"
   ]
  },
  {
   "cell_type": "code",
   "execution_count": null,
   "metadata": {},
   "outputs": [],
   "source": [
    "# getting the compounds in metaboanalyst processed data (all the columns)\n",
    "processed_data_mapped_metaboanalyst.columns = processed_data_mapped_metaboanalyst.columns.map(str)\n",
    "mapped_annotated_cpds_metaboanalyst = set(processed_data_mapped_metaboanalyst.columns) & set(all_reactome_cpds)\n",
    "print(len(mapped_annotated_cpds_metaboanalyst))\n",
    "\n",
    "# pathway dataframe to a dictionary\n",
    "pathways_dict = sspa.utils.pathwaydf_to_dict(reactome_pathways)\n",
    "\n",
    "# dictionary to store the count of molecules for each pathway\n",
    "pathway_molecule_count = {k: len([i for i in processed_data_mapped_metaboanalyst.columns if i in v]) for k, v in pathways_dict.items()}\n",
    "\n",
    "# converting  dictionary to dataframe\n",
    "pathway_molecule_count_df = pd.DataFrame(list(pathway_molecule_count.items()), columns=['Pathway', 'Molecule_Count'])\n",
    "\n",
    "# sorting  dataframe by molecule count\n",
    "pathway_molecule_count_df_sorted = pathway_molecule_count_df.sort_values(by='Molecule_Count', ascending=False)\n",
    "non_zero_molecule_count_df = pathway_molecule_count_df[pathway_molecule_count_df['Molecule_Count'] > 0]\n",
    "mean_molecule_count_non_zero_metaboanalyst = non_zero_molecule_count_df['Molecule_Count'].mean()\n",
    "pathway_molecule_count_df_sorted.head(50), mean_molecule_count_non_zero_metaboanalyst\n"
   ]
  },
  {
   "cell_type": "markdown",
   "metadata": {},
   "source": [
    "### Creating a pathway results dataframe"
   ]
  },
  {
   "cell_type": "code",
   "execution_count": null,
   "metadata": {},
   "outputs": [],
   "source": [
    "pathway_results = pd.DataFrame({\n",
    "    'ChEBI': [len(processed_data_mapped_metaboanalyst.columns)],\n",
    "    'Pathways': [len(mapped_annotated_cpds_metaboanalyst)],\n",
    "    'Avg Pathway Met': [mean_molecule_count_non_zero_metaboanalyst]\n",
    "}, index=['MetaboAnalyst'])"
   ]
  },
  {
   "cell_type": "markdown",
   "metadata": {},
   "source": [
    "### Gather pathway mapping statistics for other mapped dataframes"
   ]
  },
  {
   "cell_type": "markdown",
   "metadata": {},
   "source": [
    "LLM"
   ]
  },
  {
   "cell_type": "code",
   "execution_count": null,
   "metadata": {},
   "outputs": [],
   "source": [
    "# getting the compounds in metaboanalyst processed data (all the columns)\n",
    "processed_data_mapped_llm.columns = processed_data_mapped_llm.columns.map(str)\n",
    "mapped_annotated_cpds_llm = set(processed_data_mapped_llm.columns) & set(all_reactome_cpds)\n",
    "print(len(mapped_annotated_cpds_metaboanalyst))\n",
    "\n",
    "# pathway dataframe to a dictionary\n",
    "pathways_dict = sspa.utils.pathwaydf_to_dict(reactome_pathways)\n",
    "\n",
    "# dictionary to store the count of molecules for each pathway\n",
    "pathway_molecule_count = {k: len([i for i in processed_data_mapped_llm.columns if i in v]) for k, v in pathways_dict.items()}\n",
    "\n",
    "# converting  dictionary to dataframe\n",
    "pathway_molecule_count_df = pd.DataFrame(list(pathway_molecule_count.items()), columns=['Pathway', 'Molecule_Count'])\n",
    "\n",
    "# sorting  dataframe by molecule count\n",
    "pathway_molecule_count_df_sorted = pathway_molecule_count_df.sort_values(by='Molecule_Count', ascending=False)\n",
    "non_zero_molecule_count_df = pathway_molecule_count_df[pathway_molecule_count_df['Molecule_Count'] > 0]\n",
    "mean_molecule_count_non_zero_llm = non_zero_molecule_count_df['Molecule_Count'].mean()\n",
    "pathway_molecule_count_df_sorted.head(50), mean_molecule_count_non_zero_llm\n"
   ]
  },
  {
   "cell_type": "code",
   "execution_count": null,
   "metadata": {},
   "outputs": [],
   "source": [
    "pathway_results.loc['LLM'] = [len(processed_data_mapped_llm.columns), len(mapped_annotated_cpds_llm), mean_molecule_count_non_zero_llm]"
   ]
  },
  {
   "cell_type": "markdown",
   "metadata": {},
   "source": [
    "LLM v2"
   ]
  },
  {
   "cell_type": "code",
   "execution_count": null,
   "metadata": {},
   "outputs": [],
   "source": [
    "# getting the compounds in metaboanalyst processed data (all the columns)\n",
    "processed_data_mapped_llm_v2.columns = processed_data_mapped_llm_v2.columns.map(str)\n",
    "mapped_annotated_cpds_llm_v2 = set(processed_data_mapped_llm_v2.columns) & set(all_reactome_cpds)\n",
    "print(len(mapped_annotated_cpds_metaboanalyst))\n",
    "\n",
    "# pathway dataframe to a dictionary\n",
    "pathways_dict = sspa.utils.pathwaydf_to_dict(reactome_pathways)\n",
    "\n",
    "# dictionary to store the count of molecules for each pathway\n",
    "pathway_molecule_count = {k: len([i for i in processed_data_mapped_llm_v2.columns if i in v]) for k, v in pathways_dict.items()}\n",
    "\n",
    "# converting  dictionary to dataframe\n",
    "pathway_molecule_count_df = pd.DataFrame(list(pathway_molecule_count.items()), columns=['Pathway', 'Molecule_Count'])\n",
    "\n",
    "# sorting  dataframe by molecule count\n",
    "pathway_molecule_count_df_sorted = pathway_molecule_count_df.sort_values(by='Molecule_Count', ascending=False)\n",
    "non_zero_molecule_count_df = pathway_molecule_count_df[pathway_molecule_count_df['Molecule_Count'] > 0]\n",
    "mean_molecule_count_non_zero_llm_v2 = non_zero_molecule_count_df['Molecule_Count'].mean()\n",
    "pathway_molecule_count_df_sorted.head(50), mean_molecule_count_non_zero_llm_v2\n"
   ]
  },
  {
   "cell_type": "code",
   "execution_count": null,
   "metadata": {},
   "outputs": [],
   "source": [
    "pathway_results.loc['LLM_V2'] = [len(processed_data_mapped_llm_v2.columns), len(mapped_annotated_cpds_llm_v2), mean_molecule_count_non_zero_llm_v2]"
   ]
  },
  {
   "cell_type": "markdown",
   "metadata": {},
   "source": [
    "Manual"
   ]
  },
  {
   "cell_type": "code",
   "execution_count": null,
   "metadata": {},
   "outputs": [],
   "source": [
    "# getting the compounds in metaboanalyst processed data (all the columns)\n",
    "processed_data_mapped_manual.columns = processed_data_mapped_manual.columns.map(str)\n",
    "mapped_annotated_cpds_manual = set(processed_data_mapped_manual.columns) & set(all_reactome_cpds)\n",
    "print(len(mapped_annotated_cpds_manual))\n",
    "\n",
    "# pathway dataframe to a dictionary\n",
    "pathways_dict = sspa.utils.pathwaydf_to_dict(reactome_pathways)\n",
    "\n",
    "# dictionary to store the count of molecules for each pathway\n",
    "pathway_molecule_count = {k: len([i for i in processed_data_mapped_manual.columns if i in v]) for k, v in pathways_dict.items()}\n",
    "\n",
    "# converting  dictionary to dataframe\n",
    "pathway_molecule_count_df = pd.DataFrame(list(pathway_molecule_count.items()), columns=['Pathway', 'Molecule_Count'])\n",
    "\n",
    "# sorting  dataframe by molecule count\n",
    "pathway_molecule_count_df_sorted = pathway_molecule_count_df.sort_values(by='Molecule_Count', ascending=False)\n",
    "non_zero_molecule_count_df = pathway_molecule_count_df[pathway_molecule_count_df['Molecule_Count'] > 0]\n",
    "mean_molecule_count_non_zero_manual = non_zero_molecule_count_df['Molecule_Count'].mean()\n",
    "pathway_molecule_count_df_sorted.head(50), mean_molecule_count_non_zero_manual\n"
   ]
  },
  {
   "cell_type": "code",
   "execution_count": null,
   "metadata": {},
   "outputs": [],
   "source": [
    "pathway_results.loc['Manual'] = [len(processed_data_mapped_manual.columns), len(mapped_annotated_cpds_manual), mean_molecule_count_non_zero_manual]"
   ]
  },
  {
   "cell_type": "markdown",
   "metadata": {},
   "source": [
    "### Final df"
   ]
  },
  {
   "cell_type": "code",
   "execution_count": null,
   "metadata": {},
   "outputs": [],
   "source": [
    "pathway_results"
   ]
  },
  {
   "cell_type": "code",
   "execution_count": null,
   "metadata": {},
   "outputs": [],
   "source": [
    "import matplotlib.pyplot as plt\n",
    "\n",
    "# sortting by pathway counts \n",
    "pathway_results_sorted = pathway_results.sort_values(by='Pathways')\n",
    "\n",
    "bar_width = 0.35\n",
    "index = range(len(pathway_results_sorted))\n",
    "fig, ax1 = plt.subplots()\n",
    "ax1.bar(index, pathway_results_sorted['Pathways'], bar_width, label='Pathways', color='b')\n",
    "ax2 = ax1.twinx()\n",
    "ax2.bar([i + bar_width for i in index], pathway_results_sorted['Avg Pathway Met'], bar_width, label='Avg Pathway Met', color='r')\n",
    "ax1.set_xticks([i + bar_width / 2 for i in index])\n",
    "ax1.set_xticklabels(pathway_results_sorted.index)\n",
    "ax1.set_xlabel('Number')\n",
    "ax1.set_ylabel('Pathways', color='b')\n",
    "ax2.set_ylabel('Avg Pathway Met', color='r')\n",
    "ax1.set_title('Pathway Results')\n",
    "fig.legend(loc=\"upper left\", bbox_to_anchor=(0,1), bbox_transform=ax1.transAxes)\n",
    "plt.show()\n"
   ]
  }
 ],
 "metadata": {
  "language_info": {
   "name": "python"
  }
 },
 "nbformat": 4,
 "nbformat_minor": 2
}
