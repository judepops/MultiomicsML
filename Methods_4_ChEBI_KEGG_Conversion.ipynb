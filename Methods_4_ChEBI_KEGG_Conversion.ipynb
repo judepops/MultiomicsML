{
 "cells": [
  {
   "cell_type": "markdown",
   "metadata": {},
   "source": [
    "# Packages"
   ]
  },
  {
   "cell_type": "code",
   "execution_count": null,
   "metadata": {},
   "outputs": [],
   "source": [
    "import requests\n",
    "import re\n",
    "import pandas as pd\n",
    "import warnings\n",
    "import json\n",
    "from tqdm import tqdm"
   ]
  },
  {
   "cell_type": "markdown",
   "metadata": {},
   "source": [
    "# Data"
   ]
  },
  {
   "cell_type": "code",
   "execution_count": null,
   "metadata": {},
   "outputs": [],
   "source": [
    "# loading in the llm v2 predictions (subset to manually annotated compounds)\n",
    "\n",
    "llm_subset = pd.read_csv('/Users/judepops/Documents/PathIntegrate/Code/Final_Scripts/Results/Results_B/llm_subset_v2.csv', index_col=0)\n",
    "llm_subset = llm_subset.rename(columns={'Matched COMPOUND_ID': 'ChEBI'})\n",
    "llm_subset = llm_subset.drop(columns='Matched Compound Name')\n",
    "llm_subset = llm_subset.drop(columns='Source')\n",
    "llm_subset = llm_subset.drop(columns='Correct COMPOUND_ID')\n",
    "\n",
    "llm_subset['Query'] = llm_subset['Query'].str.strip().str.lower()\n",
    "llm_subset['ChEBI'] = pd.to_numeric(llm_subset['ChEBI'], errors='coerce')\n",
    "llm_subset.dropna(subset=['ChEBI'], inplace=True)\n",
    "llm_subset['ChEBI'] = llm_subset['ChEBI'].astype('Int64')\n",
    "llm_subset.reset_index(drop=True, inplace=True)"
   ]
  },
  {
   "cell_type": "markdown",
   "metadata": {},
   "source": [
    "# Proeteomics - Just using KEGG API"
   ]
  },
  {
   "cell_type": "code",
   "execution_count": null,
   "metadata": {},
   "outputs": [],
   "source": [
    "prot = pd.read_csv('/Users/judepops/Documents/PathIntegrate/Code/Pathway_Analysis/COVID_Pro_UniProt_Final.csv')\n",
    "prot = prot.iloc[:, :-7]\n",
    "prot = prot.drop(columns='sample_id')\n",
    "column_vector_df = pd.DataFrame(prot.columns, columns=['UniProt'])\n",
    "column_vector_df"
   ]
  },
  {
   "cell_type": "code",
   "execution_count": null,
   "metadata": {},
   "outputs": [],
   "source": [
    "# function to convert UniProt IDs to KEGG GENE ID \n",
    "def convert_uniprot_to_kegg(uniprot_id):\n",
    "    url = f\"https://rest.kegg.jp/conv/genes/uniprot:{uniprot_id}\"\n",
    "    response = requests.get(url)\n",
    "    if response.status_code == 200:\n",
    "        result = response.text.strip()\n",
    "        print(result)\n",
    "        if result:\n",
    "            # splittign to obtain result\n",
    "            kegg_id = result.split(\"\\t\")[1].split(\":\")[1]\n",
    "            return kegg_id\n",
    "    return None\n",
    "\n",
    "column_vector_df['KEGG'] = column_vector_df['UniProt'].apply(convert_uniprot_to_kegg)\n",
    "\n",
    "print(column_vector_df)\n",
    "\n",
    "column_vector_df.to_csv('uniprot_to_kegg.csv', index=False)"
   ]
  },
  {
   "cell_type": "markdown",
   "metadata": {},
   "source": [
    "# Metabolomics Method 1: KEGG API"
   ]
  },
  {
   "cell_type": "code",
   "execution_count": null,
   "metadata": {},
   "outputs": [],
   "source": [
    "# function to convert ChEBI IDs to KEGG COMPOUND ID\n",
    "def convert_chebi_to_kegg(chebi_id):\n",
    "    url = f\"https://rest.kegg.jp/conv/compound/chebi:{chebi_id}\"\n",
    "    response = requests.get(url)\n",
    "    if response.status_code == 200:\n",
    "        result = response.text.strip()\n",
    "        print(result)\n",
    "        if result:\n",
    "            # splittign to obtain result\n",
    "            kegg_id = result.split(\"\\t\")[1].split(\":\")[1]\n",
    "            return kegg_id\n",
    "    return None\n",
    "\n",
    "# adding a new column for KEGG IDs\n",
    "llm_subset['KEGG'] = llm_subset['ChEBI'].apply(convert_chebi_to_kegg)\n",
    "llm_subset.to_csv('chebi_to_kegg.csv', index=False)"
   ]
  },
  {
   "cell_type": "code",
   "execution_count": null,
   "metadata": {},
   "outputs": [],
   "source": [
    "llm_subset.to_csv('/Users/judepops/Documents/PathIntegrate/Code/Pathway_Prediction/chebi_compounds.csv')"
   ]
  },
  {
   "cell_type": "markdown",
   "metadata": {},
   "source": [
    "# Metabolomics Method 2: ChEBI conversion tool (database accession)"
   ]
  },
  {
   "cell_type": "code",
   "execution_count": null,
   "metadata": {},
   "outputs": [],
   "source": [
    "# Loading in the llm v2 predictions (subset to manually annotated compounds)\n",
    "\n",
    "llm_subset = pd.read_csv('/Users/judepops/Documents/PathIntegrate/Code/Final_Scripts/Results/Results_B/llm_subset_v2.csv', index_col=0)\n",
    "llm_subset = llm_subset.rename(columns={'Matched COMPOUND_ID': 'ChEBI'})\n",
    "llm_subset = llm_subset.drop(columns='Matched Compound Name')\n",
    "llm_subset = llm_subset.drop(columns='Source')\n",
    "llm_subset = llm_subset.drop(columns='Correct COMPOUND_ID')\n",
    "\n",
    "llm_subset['Query'] = llm_subset['Query'].str.strip().str.lower()\n",
    "llm_subset['ChEBI'] = pd.to_numeric(llm_subset['ChEBI'], errors='coerce')\n",
    "llm_subset.dropna(subset=['ChEBI'], inplace=True)\n",
    "llm_subset['ChEBI'] = llm_subset['ChEBI'].astype('Int64')\n",
    "llm_subset.reset_index(drop=True, inplace=True)"
   ]
  },
  {
   "cell_type": "code",
   "execution_count": null,
   "metadata": {},
   "outputs": [],
   "source": [
    "# loading in chebi conversion tool\n",
    "chebi_db = pd.read_csv('/Users/judepops/Documents/PathIntegrate/Code/Pathway_Prediction/database_accession.tsv', delimiter='\\t')\n",
    "chebi_db"
   ]
  },
  {
   "cell_type": "code",
   "execution_count": null,
   "metadata": {},
   "outputs": [],
   "source": [
    "# makign them strings\n",
    "chebi_db['ID'] = chebi_db['ID'].astype(str)\n",
    "llm_subset['ChEBI'] = llm_subset['ChEBI'].astype(str)\n",
    "\n",
    "# function to match chebi ids adn extract accession number\n",
    "def get_kegg_accession(manual_entry, chebi_db):\n",
    "    result = chebi_db[(chebi_db['ID'] == str(manual_entry)) & (chebi_db['TYPE'] == 'KEGG COMPOUND accession')]\n",
    "    if not result.empty:\n",
    "        return result['ACCESSION_NUMBER'].values[0]\n",
    "    return None\n",
    "\n",
    "# applying  function to the ChEBI_IDs in llm_subset dataframe\n",
    "llm_subset['KEGG_ID'] = llm_subset['ChEBI'].apply(lambda x: get_kegg_accession(x, chebi_db))\n"
   ]
  },
  {
   "cell_type": "code",
   "execution_count": null,
   "metadata": {},
   "outputs": [],
   "source": [
    "llm_subset.to_csv('chebi_to_kegg_pd.csv')"
   ]
  },
  {
   "cell_type": "markdown",
   "metadata": {},
   "source": [
    "# Metabolomics Method 3: Metaboanallyst"
   ]
  },
  {
   "cell_type": "code",
   "execution_count": null,
   "metadata": {},
   "outputs": [],
   "source": [
    "# this was done using the website so no code to show"
   ]
  },
  {
   "cell_type": "markdown",
   "metadata": {},
   "source": [
    "# CREATING A FINAL DATAFRAME WTIH ALL!"
   ]
  },
  {
   "cell_type": "code",
   "execution_count": 3,
   "metadata": {},
   "outputs": [],
   "source": [
    "import pandas as pd\n",
    "# first we load the data from each conversion method\n",
    "api_method = pd.read_csv('/Users/judepops/Documents/PathIntegrate/Code/Pathway_Prediction/chebi_to_kegg_api.csv')\n",
    "pd_method = pd.read_csv('/Users/judepops/Documents/PathIntegrate/Code/Pathway_Prediction/chebi_to_kegg_pd.csv')\n",
    "ma_method = pd.read_csv('/Users/judepops/Documents/PathIntegrate/Code/Pathway_Prediction/chebi_to_kegg_ma.csv')\n",
    "\n",
    "# now we prepare teh data to be combined\n",
    "ma_method = ma_method[['KEGG', 'Query']]\n",
    "pd_method = pd_method.rename(columns={'KEGG_ID': 'KEGG'})\n",
    "api_method['KEGG'] = api_method['KEGG'].str.replace(r'\\nchebi', '', regex=True)\n",
    "\n",
    "# now we add a  source column to each method!\n",
    "api_method['Source'] = 'API Method'\n",
    "pd_method['Source'] = 'PD Method'\n",
    "ma_method['Source'] = 'MA Method'\n",
    "\n",
    "## dataframes are ALL THE SAME LENGTH - the LLM V2 0.75 predictions\n",
    "## it is important to note that there are some na in the KEGG column of each one - if no prediction was provided\n",
    "\n",
    "\n",
    "# WE START WITH METABOANALSYT (MA) METHOD AS THE INTIIAL PREDICTIONS AND THEN FILL WITH THE REST (THE REST ARE ALL PREDICTIOS THAT\n",
    "# METABOANALYST MISSED AND THESE WERE PROVIDED BY LLM)\n",
    "\n",
    "# now we fill NA values in ma_method KEGG column first with api_method and then with pd_method\n",
    "combined = ma_method.copy()\n",
    "combined['KEGG'] = combined['KEGG'].fillna(api_method['KEGG']).fillna(pd_method['KEGG'])\n",
    "\n",
    "# THIS DETERMINES the source of each method\n",
    "combined['Source'] = np.where(ma_method['KEGG'].notna(), 'MA Method', \n",
    "                              np.where(api_method['KEGG'].notna(), 'API Method', 'PD Method'))\n",
    "\n",
    "# now there is a final combined dataframe that has the query metabolite name, the kegg id for it and the source of where it caome from\n",
    "final_combined_df = combined[['Query', 'KEGG', 'Source']]\n",
    "\n",
    "final_combined_df\n",
    "\n"
   ]
  },
  {
   "cell_type": "code",
   "execution_count": null,
   "metadata": {},
   "outputs": [],
   "source": [
    "# saving the dataframe\n",
    "final_combined_df.to_csv('/Users/judepops/Documents/PathIntegrate/Code/Final_Scripts/Results/Results_G/final_kegg_id.csv')"
   ]
  },
  {
   "cell_type": "code",
   "execution_count": null,
   "metadata": {},
   "outputs": [],
   "source": []
  }
 ],
 "metadata": {
  "kernelspec": {
   "display_name": "base",
   "language": "python",
   "name": "python3"
  },
  "language_info": {
   "codemirror_mode": {
    "name": "ipython",
    "version": 3
   },
   "file_extension": ".py",
   "mimetype": "text/x-python",
   "name": "python",
   "nbconvert_exporter": "python",
   "pygments_lexer": "ipython3",
   "version": "3.10.10"
  }
 },
 "nbformat": 4,
 "nbformat_minor": 2
}
