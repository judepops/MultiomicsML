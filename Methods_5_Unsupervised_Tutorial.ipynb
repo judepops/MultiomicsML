{
 "cells": [
  {
   "cell_type": "markdown",
   "metadata": {},
   "source": [
    "# PathIntegrate Unsupervised Extension Guide"
   ]
  },
  {
   "cell_type": "markdown",
   "metadata": {},
   "source": [
    "Package Documentation: https://cwieder.github.io/PathIntegrate/ \n",
    "\n",
    "Unsupservised Extension: https://github.com/judepops/MultiomicsML/PathIntegrate_JP"
   ]
  },
  {
   "cell_type": "markdown",
   "metadata": {},
   "source": [
    "## Dependencies"
   ]
  },
  {
   "cell_type": "code",
   "execution_count": 1,
   "metadata": {},
   "outputs": [],
   "source": [
    "# Classic Dependencies\n",
    "\n",
    "import pandas as pd\n",
    "import numpy as np\n",
    "import matplotlib.pyplot as plt\n",
    "import seaborn as sns\n",
    "import sspa\n",
    "\n",
    "# PathIntegrate Package\n",
    "import pathintegrate_v3"
   ]
  },
  {
   "cell_type": "markdown",
   "metadata": {},
   "source": [
    "## Loading the Multi-omics Datasets and Metadata"
   ]
  },
  {
   "cell_type": "markdown",
   "metadata": {},
   "source": [
    "## Data Source\n",
    "\n",
    "The dataset we will be working with is from Su et al. \"Multi-Omics Resolves a Sharp Disease-State Shift between Mild and Moderate COVID-19\".\n",
    "\n",
    "\n",
    "* Plasma metabolomics (Metabolon UHPLC-MS/MS)\n",
    "* Proteomics (Olink) datasets\n",
    "\n",
    "with matched samples, of which 45 samples had ‘mild’ COVID (WHO status 1-2), and 82 had ‘moderate-severe’ COVID19 (WHO status 3-7), totalling 127 samples\n",
    "\n",
    "Su Y, Chen D, Yuan D, Lausted C, Choi J, Dai CL, et al. Multi-Omics Resolves a Sharp Disease-State Shift between Mild and Moderate COVID-19. Cell. 2020;183: 1479-1495.e20. [DOI](doi:10.1016/j.cell.2020.10.037)\n",
    "\n"
   ]
  },
  {
   "cell_type": "markdown",
   "metadata": {},
   "source": [
    "## Identifier harmonisation\n",
    "\n",
    "*   Feature IDs have been converted to ChEBI for metabolites and UniProt for proteins\n",
    "*   sspa package provides metabolite ID conversion utility\n",
    "* IDs must match those of the pathway database\n",
    "  * Reactome uses ChEBI, UniProt, and ENSEMBL\n",
    "  * KEGG uses KEGG compound and KEGG gene"
   ]
  },
  {
   "cell_type": "markdown",
   "metadata": {},
   "source": [
    "## Data pre-treatment\n",
    "\n",
    "* Outlying samples should be removed\n",
    "* Missing data should be imputed\n",
    "* Features should be roughly normally distributed\n",
    "* Features *do not need* to be scaled, this is applied internally in the model using StandardScaler (mean = 0, SD =1)"
   ]
  },
  {
   "cell_type": "markdown",
   "metadata": {},
   "source": [
    "## Unsuspervised Workflow"
   ]
  },
  {
   "cell_type": "markdown",
   "metadata": {},
   "source": [
    "### Loading Example Data (within package)\n"
   ]
  },
  {
   "cell_type": "code",
   "execution_count": null,
   "metadata": {},
   "outputs": [],
   "source": [
    "metab = pathintegrate_v3.load_example_data('metabolomics')\n",
    "prot = pathintegrate_v3.load_example_data('proteomics')"
   ]
  },
  {
   "cell_type": "markdown",
   "metadata": {},
   "source": [
    "### Loading your own data (Optional)"
   ]
  },
  {
   "cell_type": "code",
   "execution_count": null,
   "metadata": {},
   "outputs": [],
   "source": [
    "metab = pd.read_csv('')\n",
    "prot = pd.read_csv('')"
   ]
  },
  {
   "cell_type": "markdown",
   "metadata": {},
   "source": [
    "### Loading the Reactome multi-omics Pathways"
   ]
  },
  {
   "cell_type": "code",
   "execution_count": null,
   "metadata": {},
   "outputs": [],
   "source": [
    "mo_paths = sspa.process_reactome(\n",
    "    organism='Homo sapiens',\n",
    "    download_latest=True,\n",
    "    omics_type='multiomics',\n",
    "    filepath='.' # save to current directory\n",
    ")"
   ]
  },
  {
   "cell_type": "markdown",
   "metadata": {},
   "source": [
    "### Initiating a PathIntegrate Object (same protocol as supervised)"
   ]
  },
  {
   "cell_type": "code",
   "execution_count": null,
   "metadata": {},
   "outputs": [],
   "source": [
    "pi_model = pathintegrate.PathIntegrate(\n",
    "    omics_data={'Metabolomics': metab, 'Proteomics':prot.iloc[:, :-1]}, # dictionary of multi-omics DataFrames and names for each omics\n",
    "    metadata=metadata_binary, # metadata column\n",
    "    pathway_source=mo_paths, # pathways dataframe\n",
    "    sspa_scoring=sspa.sspa_SVD, # ssPA method, see ssPA package for options\n",
    "    min_coverage=4) # minimum number of molecules mapping per pathway to be included"
   ]
  },
  {
   "cell_type": "markdown",
   "metadata": {},
   "source": [
    "### 1) Fitting a Dimensionality Reduction Unsupervised Model"
   ]
  },
  {
   "cell_type": "code",
   "execution_count": null,
   "metadata": {},
   "outputs": [],
   "source": [
    "covid_dimred = "
   ]
  }
 ],
 "metadata": {
  "kernelspec": {
   "display_name": "base",
   "language": "python",
   "name": "python3"
  },
  "language_info": {
   "codemirror_mode": {
    "name": "ipython",
    "version": 3
   },
   "file_extension": ".py",
   "mimetype": "text/x-python",
   "name": "python",
   "nbconvert_exporter": "python",
   "pygments_lexer": "ipython3",
   "version": "3.10.10"
  }
 },
 "nbformat": 4,
 "nbformat_minor": 2
}
